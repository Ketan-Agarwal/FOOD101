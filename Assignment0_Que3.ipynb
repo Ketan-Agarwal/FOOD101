{
 "cells": [
  {
   "cell_type": "markdown",
   "metadata": {},
   "source": [
    "#### Importing pandas and math"
   ]
  },
  {
   "cell_type": "code",
   "execution_count": null,
   "metadata": {},
   "outputs": [],
   "source": [
    "import pandas as pd\n",
    "import math"
   ]
  },
  {
   "cell_type": "markdown",
   "metadata": {},
   "source": [
    "#### reading csv and storing as pandas DataFrame in 'df'"
   ]
  },
  {
   "cell_type": "code",
   "execution_count": null,
   "metadata": {},
   "outputs": [],
   "source": [
    "df = pd.read_csv('IITK_Courses_Report.csv')\n",
    "df"
   ]
  },
  {
   "cell_type": "markdown",
   "metadata": {},
   "source": [
    "#### For cleaning column 1 and 2 and and entering required grometric mean in cells with no numerical value in column 3,4"
   ]
  },
  {
   "cell_type": "code",
   "execution_count": null,
   "metadata": {},
   "outputs": [],
   "source": [
    "indexlist = []\n",
    "for index,row in df.iterrows():\n",
    "    #print(row[0])\n",
    "    if pd.isna(row[0]) or pd.isna(row[1]) :\n",
    "        # if column 1 or 2 has any empty row, its index is added to a list aka marked for deletion\n",
    "        indexlist.append(index)\n",
    "        continue\n",
    "    if pd.isna(row[2]) and pd.isna(row[0]) == False and pd.isna(row[1]) == False:\n",
    "        # if any cell in marks column is empty, then GM of one cell above and below is calculated and is updated in current cell \n",
    "        gm_marks = round(math.sqrt(df.loc[index-1][2]*df.loc[index+1][2]), ndigits=2)\n",
    "        df.iloc[index, 2] = gm_marks\n",
    "    if pd.isna(row[3]) and pd.isna(row[0]) == False and pd.isna(row[1]) == False:\n",
    "        gm_attendance = round(math.sqrt(df.loc[index-1][3]*df.loc[index+1][3]), ndigits=2)\n",
    "        df.iloc[index, 3] = gm_attendance\n",
    "\n"
   ]
  },
  {
   "cell_type": "code",
   "execution_count": null,
   "metadata": {},
   "outputs": [],
   "source": [
    "indexlist"
   ]
  },
  {
   "cell_type": "markdown",
   "metadata": {},
   "source": [
    "##### drop the marked rows from the DataFrame"
   ]
  },
  {
   "cell_type": "code",
   "execution_count": null,
   "metadata": {},
   "outputs": [],
   "source": [
    "df.drop(index=indexlist, inplace=True)"
   ]
  },
  {
   "cell_type": "markdown",
   "metadata": {},
   "source": [
    "##### export the dataframe in a new CSV file"
   ]
  },
  {
   "cell_type": "code",
   "execution_count": null,
   "metadata": {},
   "outputs": [],
   "source": [
    "df.to_csv('cleaned_IITK_Courses_Report.csv')"
   ]
  },
  {
   "cell_type": "code",
   "execution_count": null,
   "metadata": {},
   "outputs": [],
   "source": []
  }
 ],
 "metadata": {
  "kernelspec": {
   "display_name": "food101",
   "language": "python",
   "name": "python3"
  },
  "language_info": {
   "codemirror_mode": {
    "name": "ipython",
    "version": 3
   },
   "file_extension": ".py",
   "mimetype": "text/x-python",
   "name": "python",
   "nbconvert_exporter": "python",
   "pygments_lexer": "ipython3",
   "version": "3.12.7"
  }
 },
 "nbformat": 4,
 "nbformat_minor": 2
}
