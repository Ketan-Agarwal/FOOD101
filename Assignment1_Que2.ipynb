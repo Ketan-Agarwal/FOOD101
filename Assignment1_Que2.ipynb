{
 "cells": [
  {
   "cell_type": "markdown",
   "metadata": {
    "id": "FSRalact4xj4"
   },
   "source": [
    "## **Linear Regression**\n",
    "We will use Linear regression for predicting house prices\n",
    "\n"
   ]
  },
  {
   "cell_type": "code",
   "execution_count": 1,
   "metadata": {
    "id": "J8MRCcJY2btt"
   },
   "outputs": [],
   "source": [
    "# Lets import required Libraries\n",
    "import pandas as pd\n",
    "import numpy as np\n",
    "import matplotlib.pyplot as plt\n"
   ]
  },
  {
   "cell_type": "markdown",
   "metadata": {
    "id": "1MzAhMmE6UHE"
   },
   "source": [
    "### **Dataset Preparation**"
   ]
  },
  {
   "cell_type": "code",
   "execution_count": 2,
   "metadata": {
    "id": "LiWI-2py554R"
   },
   "outputs": [],
   "source": [
    "# Execute this cell for loading dataset in a pandas dataframe\n",
    "\n",
    "\n",
    "df_train = pd.read_csv(\"california_housing_train.csv\")"
   ]
  },
  {
   "cell_type": "code",
   "execution_count": 3,
   "metadata": {
    "colab": {
     "base_uri": "https://localhost:8080/",
     "height": 223
    },
    "id": "TAodxbYX7AKf",
    "outputId": "d33dc564-9bb0-405d-af4e-fc5962306e6f"
   },
   "outputs": [
    {
     "name": "stdout",
     "output_type": "stream",
     "text": [
      "(No of rows, No of Columns) =  (17000, 9)\n"
     ]
    },
    {
     "data": {
      "text/html": [
       "<div>\n",
       "<style scoped>\n",
       "    .dataframe tbody tr th:only-of-type {\n",
       "        vertical-align: middle;\n",
       "    }\n",
       "\n",
       "    .dataframe tbody tr th {\n",
       "        vertical-align: top;\n",
       "    }\n",
       "\n",
       "    .dataframe thead th {\n",
       "        text-align: right;\n",
       "    }\n",
       "</style>\n",
       "<table border=\"1\" class=\"dataframe\">\n",
       "  <thead>\n",
       "    <tr style=\"text-align: right;\">\n",
       "      <th></th>\n",
       "      <th>longitude</th>\n",
       "      <th>latitude</th>\n",
       "      <th>housing_median_age</th>\n",
       "      <th>total_rooms</th>\n",
       "      <th>total_bedrooms</th>\n",
       "      <th>population</th>\n",
       "      <th>households</th>\n",
       "      <th>median_income</th>\n",
       "      <th>median_house_value</th>\n",
       "    </tr>\n",
       "  </thead>\n",
       "  <tbody>\n",
       "    <tr>\n",
       "      <th>0</th>\n",
       "      <td>-114.31</td>\n",
       "      <td>34.19</td>\n",
       "      <td>15.0</td>\n",
       "      <td>5612.0</td>\n",
       "      <td>1283.0</td>\n",
       "      <td>1015.0</td>\n",
       "      <td>472.0</td>\n",
       "      <td>1.4936</td>\n",
       "      <td>66900.0</td>\n",
       "    </tr>\n",
       "    <tr>\n",
       "      <th>1</th>\n",
       "      <td>-114.47</td>\n",
       "      <td>34.40</td>\n",
       "      <td>19.0</td>\n",
       "      <td>7650.0</td>\n",
       "      <td>1901.0</td>\n",
       "      <td>1129.0</td>\n",
       "      <td>463.0</td>\n",
       "      <td>1.8200</td>\n",
       "      <td>80100.0</td>\n",
       "    </tr>\n",
       "    <tr>\n",
       "      <th>2</th>\n",
       "      <td>-114.56</td>\n",
       "      <td>33.69</td>\n",
       "      <td>17.0</td>\n",
       "      <td>720.0</td>\n",
       "      <td>174.0</td>\n",
       "      <td>333.0</td>\n",
       "      <td>117.0</td>\n",
       "      <td>1.6509</td>\n",
       "      <td>85700.0</td>\n",
       "    </tr>\n",
       "    <tr>\n",
       "      <th>3</th>\n",
       "      <td>-114.57</td>\n",
       "      <td>33.64</td>\n",
       "      <td>14.0</td>\n",
       "      <td>1501.0</td>\n",
       "      <td>337.0</td>\n",
       "      <td>515.0</td>\n",
       "      <td>226.0</td>\n",
       "      <td>3.1917</td>\n",
       "      <td>73400.0</td>\n",
       "    </tr>\n",
       "    <tr>\n",
       "      <th>4</th>\n",
       "      <td>-114.57</td>\n",
       "      <td>33.57</td>\n",
       "      <td>20.0</td>\n",
       "      <td>1454.0</td>\n",
       "      <td>326.0</td>\n",
       "      <td>624.0</td>\n",
       "      <td>262.0</td>\n",
       "      <td>1.9250</td>\n",
       "      <td>65500.0</td>\n",
       "    </tr>\n",
       "  </tbody>\n",
       "</table>\n",
       "</div>"
      ],
      "text/plain": [
       "   longitude  latitude  housing_median_age  total_rooms  total_bedrooms  \\\n",
       "0    -114.31     34.19                15.0       5612.0          1283.0   \n",
       "1    -114.47     34.40                19.0       7650.0          1901.0   \n",
       "2    -114.56     33.69                17.0        720.0           174.0   \n",
       "3    -114.57     33.64                14.0       1501.0           337.0   \n",
       "4    -114.57     33.57                20.0       1454.0           326.0   \n",
       "\n",
       "   population  households  median_income  median_house_value  \n",
       "0      1015.0       472.0         1.4936             66900.0  \n",
       "1      1129.0       463.0         1.8200             80100.0  \n",
       "2       333.0       117.0         1.6509             85700.0  \n",
       "3       515.0       226.0         3.1917             73400.0  \n",
       "4       624.0       262.0         1.9250             65500.0  "
      ]
     },
     "execution_count": 3,
     "metadata": {},
     "output_type": "execute_result"
    }
   ],
   "source": [
    "# Lets have a quick Look at dataset\n",
    "\n",
    "print(\"(No of rows, No of Columns) = \",df_train.shape)\n",
    "df_train.head()"
   ]
  },
  {
   "cell_type": "code",
   "execution_count": 4,
   "metadata": {
    "colab": {
     "base_uri": "https://localhost:8080/"
    },
    "id": "pQF5aym0a4T7",
    "outputId": "74998f7b-4b13-4b9d-c59b-c2b179b1ef8f"
   },
   "outputs": [
    {
     "name": "stdout",
     "output_type": "stream",
     "text": [
      "<class 'pandas.core.frame.DataFrame'>\n",
      "RangeIndex: 17000 entries, 0 to 16999\n",
      "Data columns (total 9 columns):\n",
      " #   Column              Non-Null Count  Dtype  \n",
      "---  ------              --------------  -----  \n",
      " 0   longitude           17000 non-null  float64\n",
      " 1   latitude            17000 non-null  float64\n",
      " 2   housing_median_age  17000 non-null  float64\n",
      " 3   total_rooms         17000 non-null  float64\n",
      " 4   total_bedrooms      17000 non-null  float64\n",
      " 5   population          17000 non-null  float64\n",
      " 6   households          17000 non-null  float64\n",
      " 7   median_income       17000 non-null  float64\n",
      " 8   median_house_value  17000 non-null  float64\n",
      "dtypes: float64(9)\n",
      "memory usage: 1.2 MB\n"
     ]
    }
   ],
   "source": [
    "df_train.info()"
   ]
  },
  {
   "cell_type": "markdown",
   "metadata": {
    "id": "VCQTrNIgAlPv"
   },
   "source": [
    "The last step is to make train and test dataset and to create seperate vector for price"
   ]
  },
  {
   "cell_type": "code",
   "execution_count": 5,
   "metadata": {
    "colab": {
     "base_uri": "https://localhost:8080/"
    },
    "id": "dJyX5QOFBRg5",
    "outputId": "16e17c7a-e39b-4233-de14-46a781ad87be"
   },
   "outputs": [
    {
     "name": "stdout",
     "output_type": "stream",
     "text": [
      "(17000, 8) (17000,)\n"
     ]
    }
   ],
   "source": [
    "arr_train = np.array(df_train.drop('median_house_value', axis=1)).T\n",
    "arr_used_in_train = arr_train.copy()\n",
    "for i in range(len(arr_train)):\n",
    "  arr_train[i] = (arr_train[i]-np.mean(arr_used_in_train[i]))/np.std(arr_used_in_train[i], axis=0)\n",
    "\n",
    "y_train = np.array(df_train['median_house_value'])\n",
    "x_train = arr_train.T\n",
    "print(x_train.shape,y_train.shape)"
   ]
  },
  {
   "cell_type": "markdown",
   "metadata": {
    "id": "iAdW-22ZDcdU"
   },
   "source": [
    "### **Loss and gradient descent**\n",
    "We will use mean squared error(MSE) as loss\n",
    "\n",
    "Use the gradient descent algorithm which you learned from tutorials\n",
    "\n",
    "Your task is to complete the following functions"
   ]
  },
  {
   "cell_type": "code",
   "execution_count": 6,
   "metadata": {
    "id": "ufoIQOpeEFQx"
   },
   "outputs": [],
   "source": [
    "def loss(y_pred,y_true):\n",
    "  \"\"\"\n",
    "  input:\n",
    "  y_pred = [array] predicted value of y\n",
    "  y_true = [array] ground truth\n",
    "\n",
    "  output:\n",
    "  mse: [scalar] the MSE loss\n",
    "  \"\"\"\n",
    "  mse = np.mean((y_pred - y_true) ** 2)\n",
    "\n",
    "  return mse"
   ]
  },
  {
   "cell_type": "code",
   "execution_count": 7,
   "metadata": {
    "id": "a6LogNz5E28X"
   },
   "outputs": [],
   "source": [
    "def y_prediction(x,a,b):\n",
    "  \"\"\"\n",
    "  This function should return predicted value of y = ax+b\n",
    "  input:\n",
    "  x: [array] the feature vector of shape (m,n)\n",
    "  a: [array] weights of shape (n,)\n",
    "  b: [scalar] bias\n",
    "\n",
    "  output:\n",
    "  y_pred: [array] predicted value of y of shape (m,)\n",
    "  \"\"\"\n",
    "\n",
    "  m,n = x.shape\n",
    "  y_pred = np.dot(x, a) + b\n",
    "\n",
    "  assert(y_pred.shape == (m,))\n",
    "  return y_pred"
   ]
  },
  {
   "cell_type": "code",
   "execution_count": 8,
   "metadata": {
    "id": "lYnPROu8Gxwi"
   },
   "outputs": [],
   "source": [
    "def gradient(x,a,b,y_true):\n",
    "  \"\"\"\n",
    "  This function shoud return gradient of loss\n",
    "  input:\n",
    "  x: [array] the feature vector of shape (m,n)\n",
    "  a: [array] weights of shape (n,)\n",
    "  b: [scalar] bias\n",
    "  y_true: [array] ground truth of shape (m,)\n",
    "\n",
    "  output:\n",
    "  grad: [tuple] a tuple (derivative with respect to a[array of shape(n,)], derivative with respect to b[scalar])\n",
    "  \"\"\"\n",
    "  m,n = x.shape\n",
    "  yp = y_prediction(x,a,b)\n",
    "\n",
    "  da = (1/m)*np.dot(yp-y_true, x)\n",
    "  db = (1/m)*np.sum(yp-y_true)\n",
    "\n",
    "  assert(da.shape ==(n,))\n",
    "  return (da,db)"
   ]
  },
  {
   "cell_type": "code",
   "execution_count": 9,
   "metadata": {
    "id": "km_z3ojKKQdj"
   },
   "outputs": [],
   "source": [
    "def gradient_descent(x,y_true,learning_rate=0.01,epochs = 10):\n",
    "  \"\"\"\n",
    "  This function perfroms gradient descent and minimizes loss\n",
    "  input:\n",
    "  x: [array] the feature vector of shape (m,n)\n",
    "  y_true: [array] ground truth of shape (m,)\n",
    "\n",
    "  output:\n",
    "  loss: [array] of size (epochs,)\n",
    "  weights: [tuple] (a,b)\n",
    "  \"\"\"\n",
    "  m,n = x.shape\n",
    "  loss_mse = []                                 # initialize empty list to store loss\n",
    "  a = np.random.normal(0, 0.5, size = (n,)) * np.sqrt(2/n)     # initialize a- weights and b- bias\n",
    "  b = 0\n",
    "\n",
    "  for i in range(epochs):\n",
    "    # calculate derivative using gradient() function\n",
    "    da,db=gradient(x,a,b,y_true)\n",
    "\n",
    "    # apply gradient descent now to update a and b\n",
    "    a -= learning_rate * da\n",
    "    b -= learning_rate * db\n",
    "    \n",
    "    # calculate loss at this point using loss() function\n",
    "    l_mse = loss(y_prediction(x,a,b), y_true)\n",
    "\n",
    "    # Store loss in the list loss_mse\n",
    "    loss_mse.append(l_mse)\n",
    "\n",
    "    print(\"Epoch \",i+1,\" Completed!\",\"loss = \",l_mse) #print l_mse\n",
    "\n",
    "\n",
    "  print(\"Training completed!!\")\n",
    "\n",
    "  assert(a.shape==(n,))\n",
    "\n",
    "  return (loss_mse,a,b)"
   ]
  },
  {
   "cell_type": "markdown",
   "metadata": {
    "id": "VsR5XLl_WVu4"
   },
   "source": [
    "### **Training**"
   ]
  },
  {
   "cell_type": "code",
   "execution_count": 10,
   "metadata": {
    "id": "5A9mqkqLWU27"
   },
   "outputs": [
    {
     "name": "stdout",
     "output_type": "stream",
     "text": [
      "Epoch  1  Completed! loss =  18879159121.30194\n",
      "Epoch  2  Completed! loss =  9357615755.72612\n",
      "Epoch  3  Completed! loss =  6863088395.923528\n",
      "Epoch  4  Completed! loss =  6152312170.767208\n",
      "Epoch  5  Completed! loss =  5903247658.017589\n",
      "Epoch  6  Completed! loss =  5779113169.038941\n",
      "Epoch  7  Completed! loss =  5692785168.789086\n",
      "Epoch  8  Completed! loss =  5621085569.040644\n",
      "Epoch  9  Completed! loss =  5557454720.093458\n",
      "Epoch  10  Completed! loss =  5499747803.833116\n",
      "Epoch  11  Completed! loss =  5447040080.433429\n",
      "Epoch  12  Completed! loss =  5398773323.813794\n",
      "Epoch  13  Completed! loss =  5354520725.438923\n",
      "Epoch  14  Completed! loss =  5313918590.2478485\n",
      "Epoch  15  Completed! loss =  5276644253.876828\n",
      "Epoch  16  Completed! loss =  5242407327.883747\n",
      "Epoch  17  Completed! loss =  5210945058.90759\n",
      "Epoch  18  Completed! loss =  5182019132.440356\n",
      "Epoch  19  Completed! loss =  5155413109.618899\n",
      "Epoch  20  Completed! loss =  5130930229.265425\n",
      "Epoch  21  Completed! loss =  5108391472.791274\n",
      "Epoch  22  Completed! loss =  5087633842.723519\n",
      "Epoch  23  Completed! loss =  5068508824.36971\n",
      "Epoch  24  Completed! loss =  5050881007.922983\n",
      "Epoch  25  Completed! loss =  5034626852.380019\n",
      "Epoch  26  Completed! loss =  5019633575.315434\n",
      "Epoch  27  Completed! loss =  5005798154.599739\n",
      "Epoch  28  Completed! loss =  4993026429.838343\n",
      "Epoch  29  Completed! loss =  4981232292.756091\n",
      "Epoch  30  Completed! loss =  4970336957.008469\n",
      "Epoch  31  Completed! loss =  4960268298.998635\n",
      "Epoch  32  Completed! loss =  4950960262.2419\n",
      "Epoch  33  Completed! loss =  4942352318.664124\n",
      "Epoch  34  Completed! loss =  4934388980.963248\n",
      "Epoch  35  Completed! loss =  4927019360.816723\n",
      "Epoch  36  Completed! loss =  4920196768.293259\n",
      "Epoch  37  Completed! loss =  4913878348.335017\n",
      "Epoch  38  Completed! loss =  4908024750.6243515\n",
      "Epoch  39  Completed! loss =  4902599829.545101\n",
      "Epoch  40  Completed! loss =  4897570371.29863\n",
      "Epoch  41  Completed! loss =  4892905845.544785\n",
      "Epoch  42  Completed! loss =  4888578179.212782\n",
      "Epoch  43  Completed! loss =  4884561550.370852\n",
      "Epoch  44  Completed! loss =  4880832200.260084\n",
      "Epoch  45  Completed! loss =  4877368261.790492\n",
      "Epoch  46  Completed! loss =  4874149602.968853\n",
      "Epoch  47  Completed! loss =  4871157683.880631\n",
      "Epoch  48  Completed! loss =  4868375425.984659\n",
      "Epoch  49  Completed! loss =  4865787092.601028\n",
      "Epoch  50  Completed! loss =  4863378179.581543\n",
      "Epoch  51  Completed! loss =  4861135315.24949\n",
      "Epoch  52  Completed! loss =  4859046168.782902\n",
      "Epoch  53  Completed! loss =  4857099366.29372\n",
      "Epoch  54  Completed! loss =  4855284413.925717\n",
      "Epoch  55  Completed! loss =  4853591627.357135\n",
      "Epoch  56  Completed! loss =  4852012067.151023\n",
      "Epoch  57  Completed! loss =  4850537479.4473715\n",
      "Epoch  58  Completed! loss =  4849160241.537384\n",
      "Epoch  59  Completed! loss =  4847873311.90193\n",
      "Epoch  60  Completed! loss =  4846670184.333789\n",
      "Epoch  61  Completed! loss =  4845544845.797412\n",
      "Epoch  62  Completed! loss =  4844491737.710644\n",
      "Epoch  63  Completed! loss =  4843505720.360771\n",
      "Epoch  64  Completed! loss =  4842582040.192517\n",
      "Epoch  65  Completed! loss =  4841716299.728519\n",
      "Epoch  66  Completed! loss =  4840904429.903612\n",
      "Epoch  67  Completed! loss =  4840142664.613181\n",
      "Epoch  68  Completed! loss =  4839427517.292947\n",
      "Epoch  69  Completed! loss =  4838755759.363255\n",
      "Epoch  70  Completed! loss =  4838124400.385083\n",
      "Epoch  71  Completed! loss =  4837530669.787988\n",
      "Epoch  72  Completed! loss =  4836972000.041974\n",
      "Epoch  73  Completed! loss =  4836446011.156063\n",
      "Epoch  74  Completed! loss =  4835950496.396116\n",
      "Epoch  75  Completed! loss =  4835483409.1234865\n",
      "Epoch  76  Completed! loss =  4835042850.664188\n",
      "Epoch  77  Completed! loss =  4834627059.125824\n",
      "Epoch  78  Completed! loss =  4834234399.086283\n",
      "Epoch  79  Completed! loss =  4833863352.084508\n",
      "Epoch  80  Completed! loss =  4833512507.849356\n",
      "Epoch  81  Completed! loss =  4833180556.207784\n",
      "Epoch  82  Completed! loss =  4832866279.618425\n",
      "Epoch  83  Completed! loss =  4832568546.280953\n",
      "Epoch  84  Completed! loss =  4832286303.775709\n",
      "Epoch  85  Completed! loss =  4832018573.19176\n",
      "Epoch  86  Completed! loss =  4831764443.704848\n",
      "Epoch  87  Completed! loss =  4831523067.569918\n",
      "Epoch  88  Completed! loss =  4831293655.495655\n",
      "Epoch  89  Completed! loss =  4831075472.371134\n",
      "Epoch  90  Completed! loss =  4830867833.317015\n",
      "Epoch  91  Completed! loss =  4830670100.0360155\n",
      "Epoch  92  Completed! loss =  4830481677.439303\n",
      "Epoch  93  Completed! loss =  4830302010.527389\n",
      "Epoch  94  Completed! loss =  4830130581.505748\n",
      "Epoch  95  Completed! loss =  4829966907.117014\n",
      "Epoch  96  Completed! loss =  4829810536.17298\n",
      "Epoch  97  Completed! loss =  4829661047.271004\n",
      "Epoch  98  Completed! loss =  4829518046.680605\n",
      "Epoch  99  Completed! loss =  4829381166.387179\n",
      "Epoch  100  Completed! loss =  4829250062.280766\n",
      "Epoch  101  Completed! loss =  4829124412.478763\n",
      "Epoch  102  Completed! loss =  4829003915.772349\n",
      "Epoch  103  Completed! loss =  4828888290.187183\n",
      "Epoch  104  Completed! loss =  4828777271.649676\n",
      "Epoch  105  Completed! loss =  4828670612.7508\n",
      "Epoch  106  Completed! loss =  4828568081.600074\n",
      "Epoch  107  Completed! loss =  4828469460.762855\n",
      "Epoch  108  Completed! loss =  4828374546.2746935\n",
      "Epoch  109  Completed! loss =  4828283146.726909\n",
      "Epoch  110  Completed! loss =  4828195082.41804\n",
      "Epoch  111  Completed! loss =  4828110184.566252\n",
      "Epoch  112  Completed! loss =  4828028294.578094\n",
      "Epoch  113  Completed! loss =  4827949263.369452\n",
      "Epoch  114  Completed! loss =  4827872950.734756\n",
      "Epoch  115  Completed! loss =  4827799224.760895\n",
      "Epoch  116  Completed! loss =  4827727961.282507\n",
      "Epoch  117  Completed! loss =  4827659043.375589\n",
      "Epoch  118  Completed! loss =  4827592360.886593\n",
      "Epoch  119  Completed! loss =  4827527809.994422\n",
      "Epoch  120  Completed! loss =  4827465292.802873\n",
      "Epoch  121  Completed! loss =  4827404716.961334\n",
      "Epoch  122  Completed! loss =  4827345995.311664\n",
      "Epoch  123  Completed! loss =  4827289045.559329\n",
      "Epoch  124  Completed! loss =  4827233789.967073\n",
      "Epoch  125  Completed! loss =  4827180155.069464\n",
      "Epoch  126  Completed! loss =  4827128071.406819\n",
      "Epoch  127  Completed! loss =  4827077473.277118\n",
      "Epoch  128  Completed! loss =  4827028298.504614\n",
      "Epoch  129  Completed! loss =  4826980488.223952\n",
      "Epoch  130  Completed! loss =  4826933986.6786785\n",
      "Epoch  131  Completed! loss =  4826888741.033143\n",
      "Epoch  132  Completed! loss =  4826844701.196825\n",
      "Epoch  133  Completed! loss =  4826801819.660218\n",
      "Epoch  134  Completed! loss =  4826760051.341458\n",
      "Epoch  135  Completed! loss =  4826719353.442956\n",
      "Epoch  136  Completed! loss =  4826679685.317311\n",
      "Epoch  137  Completed! loss =  4826641008.341891\n",
      "Epoch  138  Completed! loss =  4826603285.801454\n",
      "Epoch  139  Completed! loss =  4826566482.778269\n",
      "Epoch  140  Completed! loss =  4826530566.04924\n",
      "Epoch  141  Completed! loss =  4826495503.989504\n",
      "Epoch  142  Completed! loss =  4826461266.482115\n",
      "Epoch  143  Completed! loss =  4826427824.833372\n",
      "Epoch  144  Completed! loss =  4826395151.693428\n",
      "Epoch  145  Completed! loss =  4826363220.9817915\n",
      "Epoch  146  Completed! loss =  4826332007.817444\n",
      "Epoch  147  Completed! loss =  4826301488.453219\n",
      "Epoch  148  Completed! loss =  4826271640.214189\n",
      "Epoch  149  Completed! loss =  4826242441.439778\n",
      "Epoch  150  Completed! loss =  4826213871.42937\n",
      "Epoch  151  Completed! loss =  4826185910.39117\n",
      "Epoch  152  Completed! loss =  4826158539.39412\n",
      "Epoch  153  Completed! loss =  4826131740.322664\n",
      "Epoch  154  Completed! loss =  4826105495.834166\n",
      "Epoch  155  Completed! loss =  4826079789.318843\n",
      "Epoch  156  Completed! loss =  4826054604.862022\n",
      "Epoch  157  Completed! loss =  4826029927.208582\n",
      "Epoch  158  Completed! loss =  4826005741.729456\n",
      "Epoch  159  Completed! loss =  4825982034.390036\n",
      "Epoch  160  Completed! loss =  4825958791.720397\n",
      "Epoch  161  Completed! loss =  4825936000.787191\n",
      "Epoch  162  Completed! loss =  4825913649.167137\n",
      "Epoch  163  Completed! loss =  4825891724.921985\n",
      "Epoch  164  Completed! loss =  4825870216.574883\n",
      "Epoch  165  Completed! loss =  4825849113.088045\n",
      "Epoch  166  Completed! loss =  4825828403.841663\n",
      "Epoch  167  Completed! loss =  4825808078.613953\n",
      "Epoch  168  Completed! loss =  4825788127.562296\n",
      "Epoch  169  Completed! loss =  4825768541.205417\n",
      "Epoch  170  Completed! loss =  4825749310.406487\n",
      "Epoch  171  Completed! loss =  4825730426.357171\n",
      "Epoch  172  Completed! loss =  4825711880.562488\n",
      "Epoch  173  Completed! loss =  4825693664.826496\n",
      "Epoch  174  Completed! loss =  4825675771.238723\n",
      "Epoch  175  Completed! loss =  4825658192.161306\n",
      "Epoch  176  Completed! loss =  4825640920.2168\n",
      "Epoch  177  Completed! loss =  4825623948.276621\n",
      "Epoch  178  Completed! loss =  4825607269.450084\n",
      "Epoch  179  Completed! loss =  4825590877.073993\n",
      "Epoch  180  Completed! loss =  4825574764.702774\n",
      "Epoch  181  Completed! loss =  4825558926.099096\n",
      "Epoch  182  Completed! loss =  4825543355.224976\n",
      "Epoch  183  Completed! loss =  4825528046.233303\n",
      "Epoch  184  Completed! loss =  4825512993.459832\n",
      "Epoch  185  Completed! loss =  4825498191.415521\n",
      "Epoch  186  Completed! loss =  4825483634.779278\n",
      "Epoch  187  Completed! loss =  4825469318.391054\n",
      "Epoch  188  Completed! loss =  4825455237.245274\n",
      "Epoch  189  Completed! loss =  4825441386.484581\n",
      "Epoch  190  Completed! loss =  4825427761.393887\n",
      "Epoch  191  Completed! loss =  4825414357.394708\n",
      "Epoch  192  Completed! loss =  4825401170.039765\n",
      "Epoch  193  Completed! loss =  4825388195.007847\n",
      "Epoch  194  Completed! loss =  4825375428.098904\n",
      "Epoch  195  Completed! loss =  4825362865.22939\n",
      "Epoch  196  Completed! loss =  4825350502.4278\n",
      "Epoch  197  Completed! loss =  4825338335.830435\n",
      "Epoch  198  Completed! loss =  4825326361.677344\n",
      "Epoch  199  Completed! loss =  4825314576.308462\n",
      "Epoch  200  Completed! loss =  4825302976.159924\n",
      "Training completed!!\n"
     ]
    }
   ],
   "source": [
    "epochs = 200             # tweak this!!!\n",
    "learn_rate = 0.5       # choose learning rate wisely otherwise loss may diverge!!\n",
    "\n",
    "train_loss,a,b = gradient_descent(x_train, y_train, learn_rate, epochs)\n",
    "# print(train_loss)"
   ]
  },
  {
   "cell_type": "markdown",
   "metadata": {
    "id": "TDH-7NHQT50f"
   },
   "source": [
    "### **Evaluation and Visualization**\n",
    "Lets plot how loss varies with epochs\n"
   ]
  },
  {
   "cell_type": "code",
   "execution_count": 11,
   "metadata": {
    "id": "d7JRB_nJUEkV"
   },
   "outputs": [
    {
     "name": "stdout",
     "output_type": "stream",
     "text": [
      "Loss on test data =  4865738126.844016\n"
     ]
    },
    {
     "data": {
      "image/png": "[encoded data removed]",
      "text/plain": [
       "<Figure size 640x480 with 1 Axes>"
      ]
     },
     "metadata": {},
     "output_type": "display_data"
    }
   ],
   "source": [
    "df_test = pd.read_csv(\"california_housing_test.csv\")\n",
    "\n",
    "arr_test = np.array(df_test.drop('median_house_value', axis=1)).T\n",
    "\n",
    "for i in range(len(arr_test)):\n",
    "  arr_test[i] = (arr_test[i]-np.mean(arr_used_in_train[i]))/np.std(arr_used_in_train[i], axis=0)\n",
    "\n",
    "y_test = np.array(df_test['median_house_value'])                                                                                                            # extract the price column from data\n",
    "\n",
    "x_test = arr_test.T\n",
    "test_loss = ((y_prediction(x_test, a, b)-y_test)**2).mean()\n",
    "\n",
    "print(\"Loss on test data = \",test_loss)\n",
    "\n",
    "\n",
    "plt.plot([i for i in range(epochs)], train_loss)\n",
    "plt.title(\"Training Loss\")\n",
    "plt.xlabel(\"Epochs\")\n",
    "plt.ylabel(\"Loss\")\n",
    "plt.show()"
   ]
  },
  {
   "cell_type": "markdown",
   "metadata": {
    "id": "ne8-aBvHdXZO"
   },
   "source": [
    "That's it you have completed the assignment !!\n",
    "\n",
    "We hope that you learned something from this exercise\n"
   ]
  }
 ],
 "metadata": {
  "colab": {
   "provenance": []
  },
  "interpreter": {
   "hash": "31f2aee4e71d21fbe5cf8b01ff0e069b9275f58929596ceb00d14d90e3e16cd6"
  },
  "kernelspec": {
   "display_name": "Python 3",
   "name": "python3"
  },
  "language_info": {
   "codemirror_mode": {
    "name": "ipython",
    "version": 3
   },
   "file_extension": ".py",
   "mimetype": "text/x-python",
   "name": "python",
   "nbconvert_exporter": "python",
   "pygments_lexer": "ipython3",
   "version": "3.13.0"
  },
  "orig_nbformat": 4
 },
 "nbformat": 4,
 "nbformat_minor": 0
}
